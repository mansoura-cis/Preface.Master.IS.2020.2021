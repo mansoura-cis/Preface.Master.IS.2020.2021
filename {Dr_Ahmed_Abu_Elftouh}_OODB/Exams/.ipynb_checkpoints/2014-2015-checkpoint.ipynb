{
 "cells": [
  {
   "cell_type": "markdown",
   "metadata": {},
   "source": [
    "- 1 objects have \n",
    "  - shallow equality if their states contain the same values when we exclude references to other objects;\n",
    "  - objects have deep equality if their states contain the same values and if related objects also contain the same values."
   ]
  }
 ],
 "metadata": {
  "kernelspec": {
   "display_name": ".NET (C#)",
   "language": "C#",
   "name": ".net-csharp"
  },
  "language_info": {
   "file_extension": ".cs",
   "mimetype": "text/x-csharp",
   "name": "C#",
   "pygments_lexer": "csharp",
   "version": "8.0"
  }
 },
 "nbformat": 4,
 "nbformat_minor": 4
}
