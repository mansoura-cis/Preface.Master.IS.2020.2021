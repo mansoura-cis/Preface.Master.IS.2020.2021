{
 "cells": [
  {
   "cell_type": "markdown",
   "metadata": {},
   "source": [
    "# Expected\n",
    "\n",
    "- Data Mart\n",
    "  - is a structure/access pattern specific to data warehouse environments.\n",
    "  - Used to retrieve client-facing data.\n",
    "  - is a subset from data warehouse and oriented in a specific business line or a team.\n",
    "  - data warehouse have enterprise-wide depth, the information of data mart pertains to a single department.\n",
    " \n",
    " "
   ]
  }
 ],
 "metadata": {
  "kernelspec": {
   "display_name": ".NET (C#)",
   "language": "C#",
   "name": ".net-csharp"
  },
  "language_info": {
   "file_extension": ".cs",
   "mimetype": "text/x-csharp",
   "name": "C#",
   "pygments_lexer": "csharp",
   "version": "8.0"
  }
 },
 "nbformat": 4,
 "nbformat_minor": 4
}
