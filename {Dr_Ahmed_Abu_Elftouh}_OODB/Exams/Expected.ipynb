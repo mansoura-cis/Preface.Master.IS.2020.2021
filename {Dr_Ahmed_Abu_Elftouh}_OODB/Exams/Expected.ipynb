{
 "cells": [
  {
   "cell_type": "markdown",
   "metadata": {},
   "source": [
    "\n",
    " \n",
    " "
   ]
  },
  {
   "source": [
    "# Expected\n",
    "\n",
    "- Data Mart\n",
    "  - is a structure/access pattern specific to data warehouse environments.\n",
    "  - Used to retrieve client-facing data.\n",
    "  - is a subset from data warehouse and oriented in a specific business line or a team.\n",
    "  - data warehouse have enterprise-wide depth, the information of data mart pertains to a single department.\n",
    "  \n",
    "- Modularity: \n",
    "  - is a degree of how the system components can be separeated or recompined to serve the flexibility and maintainability and encapsulation.\n",
    "  - Key Used ( Fine-Grained vs Coarse-Grained - Loosly coupled vs Tightly Coupled)\n",
    "  - Modularization in OOP : The object is like a black box can be constructed and modified independently of the rest of the system.\n",
    "  - Provide \n",
    "  \n",
    "- OID\n",
    "  - is a system generated identifier unique for every object, invarient that can not be altered at the lifetime of object and independent from the object attributes and invisisble from user.\n",
    " \n",
    "- Pointer Swizzeling"
   ],
   "cell_type": "markdown",
   "metadata": {}
  },
  {
   "source": [
    "# Question Bank\n",
    "\n",
    "## Class Diagram\n",
    "\n",
    "- Class Diagram is a __static diagram__ that represent the __static view__ of an application.\n",
    "- descripes the __attributes__ and __functions__ and the __constraints__ of the system\n",
    "- this diagram not only visualise and descripe and document the system but also constructing executable code to generate system classes.\n",
    "\n",
    "## Encapsulation\n",
    "- Is an OOP concept,  means that an object can contain the both of data structure and the set of  operations that used to manipulate it.\n",
    "- This means we can hide the information that is not perefered to user to see by \"Getters\". \n",
    "- And also Protect the undesiered manipulation of data structures using \"Setters\".\n",
    "\n",
    "## Association Rule\n",
    "\n"
   ],
   "cell_type": "markdown",
   "metadata": {}
  },
  {
   "cell_type": "code",
   "execution_count": null,
   "metadata": {},
   "outputs": [],
   "source": []
  }
 ],
 "metadata": {
  "kernelspec": {
   "display_name": ".NET (C#)",
   "language": "C#",
   "name": ".net-csharp"
  },
  "language_info": {
   "file_extension": ".cs",
   "mimetype": "text/x-csharp",
   "name": "C#",
   "pygments_lexer": "csharp",
   "version": "8.0"
  }
 },
 "nbformat": 4,
 "nbformat_minor": 4
}