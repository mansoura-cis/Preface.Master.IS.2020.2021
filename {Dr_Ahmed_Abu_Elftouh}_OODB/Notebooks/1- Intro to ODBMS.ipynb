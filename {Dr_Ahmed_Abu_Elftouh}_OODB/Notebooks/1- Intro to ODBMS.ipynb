{
 "cells": [
  {
   "attachments": {},
   "cell_type": "markdown",
   "metadata": {},
   "source": [
    "# In The Name Of Allah\n",
    "\n",
    "# Intro to ODBMSs\n",
    "\n",
    "## A Background for Relational DBs\n",
    "\n",
    "> Relational DBMSs support a __small__ , __fixed__ collection of data types (e.g. integer, dates, string, etc.) which has proven <abbr title=\"مناسب\">adequate</abbr> for traditional application domains such as administrative and business data processing.\n",
    "\n",
    "> RDBMSs support very high-level queries, query optimization, transactions, backup and crash recovery, etc.\n",
    "\n",
    "- However, many other application domains need complex kinds of data such as <mark>CAD/CAM</mark>, multimedia repositories, and document management.\n",
    "- To support such applications, DBMSs must _support complex data types_ .\n",
    "\n",
    "\n"
   ]
  },
  {
   "cell_type": "code",
   "execution_count": null,
   "metadata": {},
   "outputs": [],
   "source": []
  }
 ],
 "metadata": {
  "kernelspec": {
   "display_name": ".NET (C#)",
   "language": "C#",
   "name": ".net-csharp"
  },
  "language_info": {
   "file_extension": ".cs",
   "mimetype": "text/x-csharp",
   "name": "C#",
   "pygments_lexer": "csharp",
   "version": "8.0"
  }
 },
 "nbformat": 4,
 "nbformat_minor": 4
}
