{
 "cells": [
  {
   "cell_type": "markdown",
   "metadata": {},
   "source": [
    "# Object-Relational Mapping ( Code first or Database first )\n",
    "\n",
    "> ORM stands for `Object-Relational Mapping (ORM)` is a programming technique for converting data between relational databases and object oriented programming languages such as  C#, Java, python, JS.\n",
    "\n",
    "> It is a programming technique that abstracts your code from the database behind it.\n",
    "\n",
    "- In plain English, if you are using ORM and a Sql Server database, you could switch to any SQL-based databases like PostgreSQL or MySQl or other and NoSQl like mongodb, Coach db, Cosmos db, Dynamo db  at any time without changing your code. At all.\n",
    "\n",
    "![](./PICS/db0003-01-what_is_orm.svg\n",
    ")\n",
    "## 1- The Big Bang story of programmers and database specialists\n",
    "\n",
    "- If you write Object-Oriented Code, having a place to store your data is a must.\n",
    "- In fact, the traditional way to go is to use a Relational Database.\n",
    "- You can use Microsoft SQL, MySQL, or PostgreSQL, but in any case, you know the pain. \n",
    "- You have to spend **time mapping** between tables and your classes, create methods to save in the database and read from it, and so on.\n",
    "![](./PICS/disappointed-with-the-world.jpg)\n",
    "\n",
    "> Well, not anymore my friend. \n",
    "\n",
    "> we will explain what is ORM (Object-Relational Mapping), a solution that will solve all your pains.\n",
    "\n",
    "\n",
    "- Using an Object Relational Mapping library improves the <mark>application development process and runtime handling</mark> in many aspects. \n",
    "- To handle the communication between the Object Domain model (Classes/Objects) and Relational Model (Table/Records), we would be wasting a lot of time in writing boiler plate template code.\n",
    "- To ensure a seamless communication with robust implementation and good performance, it is better to embrace an already available ORM like:\n",
    "  - Entity Framework, Dapper (C#, F#, Visula Basic)\n",
    "  - Mongoose, RxDb NodeJs\n",
    "  - Django ORM (Python)\n",
    "  - Laravel Eloquent (PHP)\n",
    "  \n",
    "> this session we work on .Net Why?\n",
    "- as this notebook is .Net \n",
    "- and the big deal:\n",
    "![](./PICS/dotnet5_platform.png)\n",
    "\n",
    "\n"
   ]
  },
  {
   "cell_type": "markdown",
   "metadata": {},
   "source": []
  },
  {
   "cell_type": "markdown",
   "metadata": {},
   "source": [
    "## 2- Environment Configuration\n",
    "\n",
    "- [Install Python 3.9](https://www.python.org/ftp/python/3.9.0/python-3.9.0-amd64.exe) or [Anaconda](https://repo.anaconda.com/archive/Anaconda3-2020.11-Windows-x86_64.exe)\n",
    "- Install Dotnet 5 [SDK](https://dotnet.microsoft.com/download/dotnet/thank-you/sdk-5.0.100-windows-x64-installer) and [Runtime](https://dotnet.microsoft.com/down\n",
    "load/dotnet/thank-you/runtime-aspnetcore-5.0.0-windows-x64-installer) \n",
    "- Open Terminal or Powershell or any bash\n",
    "\n",
    "\n",
    "- install Jupyter\n",
    "`$ pip install jupyterlab`\n",
    "\n",
    "- Installing the try tool of dotnet\n",
    "`$ dotnet tool install -g dotnet-try`\n",
    "\n",
    "- Installing the dotnet jupyter kernel\n",
    "`$ dotnet try jupyter install`\n",
    "- Open Jupyter notebook\n",
    "`$jupyter notebook`\n",
    "\n",
    "\n",
    "![](./PICS/1.PNG)\n",
    "![](./PICS/2.PNG)\n",
    "\n",
    "- Install SQL Server \n",
    "\n"
   ]
  },
  {
   "cell_type": "code",
   "execution_count": 2,
   "metadata": {},
   "outputs": [],
   "source": [
    "using System;\n",
    "//Lists \n",
    "using System.Collections; \n",
    "using System.Collections.Generic;\n",
    "using Microsoft.EntityFrameworkCore;\n",
    "using Microsoft.EntityFrameworkCore.Design;\n",
    "using Microsoft.EntityFrameworkCore.SqlServer;\n",
    "using Microsoft.EntityFrameworkCore.Infrastructure;\n",
    "using Microsoft.EntityFrameworkCore.Migrations;\n",
    "using System.Linq;\n",
    "using System.Threading.Tasks;\n",
    "using System.ComponentModel.DataAnnotations;\n",
    "using System.ComponentModel.DataAnnotations.Schema;\n"
   ]
  },
  {
   "cell_type": "markdown",
   "metadata": {},
   "source": [
    "## 3-  Installing Assemblies and using them\n"
   ]
  },
  {
   "cell_type": "code",
   "execution_count": 1,
   "metadata": {},
   "outputs": [
    {
     "data": {
      "text/html": [
       "\r\n",
       "<div>\r\n",
       "    <div id='dotnet-interactive-this-cell-1652.Microsoft.DotNet.Interactive.Http.HttpPort' style='display: none'>\r\n",
       "        The below script needs to be able to find the current output cell; this is an easy method to get it.\r\n",
       "    </div>\r\n",
       "    <script type='text/javascript'>\r\n",
       "async function probeAddresses(probingAddresses) {\r\n",
       "    function timeout(ms, promise) {\r\n",
       "        return new Promise(function (resolve, reject) {\r\n",
       "            setTimeout(function () {\r\n",
       "                reject(new Error('timeout'))\r\n",
       "            }, ms)\r\n",
       "            promise.then(resolve, reject)\r\n",
       "        })\r\n",
       "    }\r\n",
       "\r\n",
       "    if (Array.isArray(probingAddresses)) {\r\n",
       "        for (let i = 0; i < probingAddresses.length; i++) {\r\n",
       "\r\n",
       "            let rootUrl = probingAddresses[i];\r\n",
       "\r\n",
       "            if (!rootUrl.endsWith('/')) {\r\n",
       "                rootUrl = `${rootUrl}/`;\r\n",
       "            }\r\n",
       "\r\n",
       "            try {\r\n",
       "                let response = await timeout(1000, fetch(`${rootUrl}discovery`, {\r\n",
       "                    method: 'POST',\r\n",
       "                    cache: 'no-cache',\r\n",
       "                    mode: 'cors',\r\n",
       "                    timeout: 1000,\r\n",
       "                    headers: {\r\n",
       "                        'Content-Type': 'text/plain'\r\n",
       "                    },\r\n",
       "                    body: probingAddresses[i]\r\n",
       "                }));\r\n",
       "\r\n",
       "                if (response.status == 200) {\r\n",
       "                    return rootUrl;\r\n",
       "                }\r\n",
       "            }\r\n",
       "            catch (e) { }\r\n",
       "        }\r\n",
       "    }\r\n",
       "}\r\n",
       "\r\n",
       "function loadDotnetInteractiveApi() {\r\n",
       "    probeAddresses([\"http://172.30.240.1:1000/\", \"http://192.168.1.7:1000/\", \"http://127.0.0.1:1000/\"])\r\n",
       "        .then((root) => {\r\n",
       "        // use probing to find host url and api resources\r\n",
       "        // load interactive helpers and language services\r\n",
       "        let dotnetInteractiveRequire = require.config({\r\n",
       "        context: '1652.Microsoft.DotNet.Interactive.Http.HttpPort',\r\n",
       "                paths:\r\n",
       "            {\r\n",
       "                'dotnet-interactive': `${root}resources`\r\n",
       "                }\r\n",
       "        }) || require;\r\n",
       "\r\n",
       "            window.dotnetInteractiveRequire = dotnetInteractiveRequire;\r\n",
       "\r\n",
       "            window.configureRequireFromExtension = function(extensionName, extensionCacheBuster) {\r\n",
       "                let paths = {};\r\n",
       "                paths[extensionName] = `${root}extensions/${extensionName}/resources/`;\r\n",
       "                \r\n",
       "                let internalRequire = require.config({\r\n",
       "                    context: extensionCacheBuster,\r\n",
       "                    paths: paths,\r\n",
       "                    urlArgs: `cacheBuster=${extensionCacheBuster}`\r\n",
       "                    }) || require;\r\n",
       "\r\n",
       "                return internalRequire\r\n",
       "            };\r\n",
       "        \r\n",
       "            dotnetInteractiveRequire([\r\n",
       "                    'dotnet-interactive/dotnet-interactive'\r\n",
       "                ],\r\n",
       "                function (dotnet) {\r\n",
       "                    dotnet.init(window);\r\n",
       "                },\r\n",
       "                function (error) {\r\n",
       "                    console.log(error);\r\n",
       "                }\r\n",
       "            );\r\n",
       "        })\r\n",
       "        .catch(error => {console.log(error);});\r\n",
       "    }\r\n",
       "\r\n",
       "// ensure `require` is available globally\r\n",
       "if ((typeof(require) !==  typeof(Function)) || (typeof(require.config) !== typeof(Function))) {\r\n",
       "    let require_script = document.createElement('script');\r\n",
       "    require_script.setAttribute('src', 'https://cdnjs.cloudflare.com/ajax/libs/require.js/2.3.6/require.min.js');\r\n",
       "    require_script.setAttribute('type', 'text/javascript');\r\n",
       "    \r\n",
       "    \r\n",
       "    require_script.onload = function() {\r\n",
       "        loadDotnetInteractiveApi();\r\n",
       "    };\r\n",
       "\r\n",
       "    document.getElementsByTagName('head')[0].appendChild(require_script);\r\n",
       "}\r\n",
       "else {\r\n",
       "    loadDotnetInteractiveApi();\r\n",
       "}\r\n",
       "\r\n",
       "    </script>\r\n",
       "</div>"
      ]
     },
     "metadata": {},
     "output_type": "display_data"
    },
    {
     "data": {
      "text/plain": [
       "Installed package Microsoft.EntityFrameworkCore.Design version 3.1.7"
      ]
     },
     "metadata": {},
     "output_type": "display_data"
    },
    {
     "data": {
      "text/plain": [
       "Installed package Microsoft.EntityFrameworkCore.Tools version 3.1.7"
      ]
     },
     "metadata": {},
     "output_type": "display_data"
    },
    {
     "data": {
      "text/plain": [
       "Installed package Microsoft.EntityFrameworkCore version 3.1.7"
      ]
     },
     "metadata": {},
     "output_type": "display_data"
    },
    {
     "data": {
      "text/plain": [
       "Installed package System.ComponentModel.Annotations version 5.0.0"
      ]
     },
     "metadata": {},
     "output_type": "display_data"
    },
    {
     "data": {
      "text/plain": [
       "Installed package Microsoft.EntityFrameworkCore.SqlServer version 3.1.7"
      ]
     },
     "metadata": {},
     "output_type": "display_data"
    }
   ],
   "source": [
    "// Installing Assemblies\n",
    "\n",
    "#r \"nuget:Microsoft.EntityFrameworkCore, 3.1.7\"\n",
    "#r \"nuget:Microsoft.EntityFrameworkCore.Tools, 3.1.7\"\n",
    "#r \"nuget:Microsoft.EntityFrameworkCore.Design, 3.1.7\"\n",
    "#r \"nuget:Microsoft.EntityFrameworkCore.SqlServer, 3.1.7\"\n",
    "#r \"nuget:System.ComponentModel.Annotations, 5.0.0\"\n"
   ]
  },
  {
   "cell_type": "code",
   "execution_count": 2,
   "metadata": {},
   "outputs": [],
   "source": []
  },
  {
   "cell_type": "markdown",
   "metadata": {},
   "source": [
    "![](./PICS/N1.png)"
   ]
  },
  {
   "cell_type": "code",
   "execution_count": 5,
   "metadata": {},
   "outputs": [],
   "source": [
    "\n",
    "public class Physician\n",
    "{\n",
    "    [Key]\n",
    "    public Guid Id { get; set; }\n",
    "    \n",
    "    public string Name {get; set;}\n",
    "    // One to Many Mapping    \n",
    "    [InverseProperty(nameof(Patient.Physician))]\n",
    "    public ICollection<Patient> Cared_Patients {get; set;}\n",
    "}\n",
    "\n",
    "// Supertype of patient\n",
    "public class Patient\n",
    "{\n",
    "\n",
    "    [Key]\n",
    "    public Guid Id { get; set; }\n",
    "    \n",
    "    public DateTime Admit_Date { get; set; }\n",
    "    public string Patient_Name { get; set; }\n",
    "    \n",
    "    // Foreign key mapping\n",
    "    [ForeignKey(nameof(Physician))]\n",
    "    public Guid PhysicianId {get; set;}\n",
    "    public Physician Physician {get; set;}\n",
    "}\n",
    "\n",
    "public class OutPatient : Patient\n",
    "{\n",
    "    public DateTime Checkback_Date { get; set; }\n",
    "}\n",
    "\n",
    "public class ResidentPatient : Patient\n",
    "{\n",
    "    public DateTime Date_Discharged { get; set; }\n",
    "\n",
    "\n",
    "    public Bed Bed {get; set;}\n",
    "}\n",
    "\n",
    "public class Bed\n",
    "{\n",
    "    [Key]\n",
    "    public Guid Id { get; set; }\n",
    "    \n",
    "    [ForeignKey(nameof(ResidentPatient))]\n",
    "    public Guid ResidentPatientId{get; set;}\n",
    "    public ResidentPatient ResidentPatient {get; set;}\n",
    "}\n",
    "\n",
    "\n",
    "public class ClinicContext : DbContext\n",
    "{\n",
    "    public DbSet<Physician> Physicians { get; set; }\n",
    "    public DbSet<Patient> Patients { get; set; }\n",
    "    public DbSet<Bed> Beds { get; set; }\n",
    "    public DbSet<OutPatient> OutPatients { get; set; }\n",
    "    public DbSet<ResidentPatient> ResidentPatients { get; set; }\n",
    "    \n",
    "\n",
    "    protected override void OnConfiguring(DbContextOptionsBuilder optionsBuilder)\n",
    "    { \n",
    "        optionsBuilder.UseSqlServer(@\"Data Source=DESKTOP-MM55CCG;Initial Catalog=Clinicbs;Trusted_Connection=True;MultipleActiveResultSets=true\");\n",
    "    }\n",
    "    \n",
    "    protected override void OnModelCreating(ModelBuilder modelBuilder)\n",
    "    {\n",
    "    }\n",
    "}\n",
    "\n"
   ]
  },
  {
   "cell_type": "code",
   "execution_count": 6,
   "metadata": {},
   "outputs": [],
   "source": [
    "ClinicContext db = new ClinicContext();\n",
    "db.Database.EnsureCreated();\n",
    "var migrator = db.Database.GetService<IMigrator>();\n",
    "await migrator.MigrateAsync();"
   ]
  },
  {
   "cell_type": "code",
   "execution_count": 8,
   "metadata": {},
   "outputs": [
    {
     "data": {
      "text/html": [
       "<div class=\"dni-plaintext\">86025d67-f283-4d32-b8f0-7c3866f42813</div>"
      ]
     },
     "metadata": {},
     "output_type": "display_data"
    }
   ],
   "source": [
    "display(Guid.NewGuid());"
   ]
  },
  {
   "cell_type": "code",
   "execution_count": 10,
   "metadata": {},
   "outputs": [],
   "source": [
    "Physician john = new Physician{\n",
    "    Id = Guid.Parse(\"86025d67-f283-4d32-b8f0-7c3866f42813\"),\n",
    "    Name = \"John Smith\"\n",
    "};\n",
    "\n",
    "db.Physicians.Add(john);\n",
    "db.SaveChanges();"
   ]
  },
  {
   "cell_type": "code",
   "execution_count": 13,
   "metadata": {},
   "outputs": [],
   "source": [
    "Patient ali =  new Patient{\n",
    "    Admit_Date = DateTime.UtcNow,\n",
    "    Patient_Name = \"Ali\",\n",
    "    PhysicianId = Guid.Parse(\"86025d67-f283-4d32-b8f0-7c3866f42813\")\n",
    "};\n",
    "Patient marwa =  new Patient{\n",
    "    Admit_Date = DateTime.UtcNow,\n",
    "    Patient_Name = \"Marwa\",\n",
    "    PhysicianId = Guid.Parse(\"86025d67-f283-4d32-b8f0-7c3866f42813\")\n",
    "};\n",
    "Patient khalid =  new Patient{\n",
    "    Admit_Date = DateTime.UtcNow,\n",
    "    Patient_Name = \"Khalid\",\n",
    "    PhysicianId = Guid.Parse(\"86025d67-f283-4d32-b8f0-7c3866f42813\")\n",
    "};\n",
    "Patient mona =  new Patient{\n",
    "    Admit_Date = DateTime.UtcNow,\n",
    "    Patient_Name = \"Mona\",\n",
    "    PhysicianId = Guid.Parse(\"86025d67-f283-4d32-b8f0-7c3866f42813\")\n",
    "};\n",
    "Patient soma =  new Patient{\n",
    "    Admit_Date = DateTime.UtcNow,\n",
    "    Patient_Name = \"Soma\",\n",
    "    PhysicianId = Guid.Parse(\"86025d67-f283-4d32-b8f0-7c3866f42813\")\n",
    "};\n",
    "db.Patients.AddRange(ali, khalid,marwa, mona, soma);\n",
    "\n",
    "db.SaveChanges();\n"
   ]
  },
  {
   "cell_type": "code",
   "execution_count": 14,
   "metadata": {},
   "outputs": [
    {
     "data": {
      "text/html": [
       "<table><thead><tr><th><i>index</i></th><th>Id</th><th>Admit_Date</th><th>Patient_Name</th><th>PhysicianId</th><th>Physician</th></tr></thead><tbody><tr><td>0</td><td><div class=\"dni-plaintext\">3305d1a6-e7f4-4465-c7c8-08d89e1202fd</div></td><td><span>2020-12-11 20:19:06Z</span></td><td><div class=\"dni-plaintext\">Ali</div></td><td><div class=\"dni-plaintext\">86025d67-f283-4d32-b8f0-7c3866f42813</div></td><td><div class=\"dni-plaintext\">Submission#13+Physician</div></td></tr><tr><td>1</td><td><div class=\"dni-plaintext\">350dd618-0001-4578-c7c9-08d89e1202fd</div></td><td><span>2020-12-11 20:19:06Z</span></td><td><div class=\"dni-plaintext\">Khalid</div></td><td><div class=\"dni-plaintext\">86025d67-f283-4d32-b8f0-7c3866f42813</div></td><td><div class=\"dni-plaintext\">Submission#13+Physician</div></td></tr><tr><td>2</td><td><div class=\"dni-plaintext\">110dbebd-6d8b-4135-c7ca-08d89e1202fd</div></td><td><span>2020-12-11 20:19:06Z</span></td><td><div class=\"dni-plaintext\">Marwa</div></td><td><div class=\"dni-plaintext\">86025d67-f283-4d32-b8f0-7c3866f42813</div></td><td><div class=\"dni-plaintext\">Submission#13+Physician</div></td></tr><tr><td>3</td><td><div class=\"dni-plaintext\">2a3b450e-7deb-4bd5-c7cb-08d89e1202fd</div></td><td><span>2020-12-11 20:19:06Z</span></td><td><div class=\"dni-plaintext\">Mona</div></td><td><div class=\"dni-plaintext\">86025d67-f283-4d32-b8f0-7c3866f42813</div></td><td><div class=\"dni-plaintext\">Submission#13+Physician</div></td></tr><tr><td>4</td><td><div class=\"dni-plaintext\">6f5951d8-5074-4680-c7cc-08d89e1202fd</div></td><td><span>2020-12-11 20:19:06Z</span></td><td><div class=\"dni-plaintext\">Soma</div></td><td><div class=\"dni-plaintext\">86025d67-f283-4d32-b8f0-7c3866f42813</div></td><td><div class=\"dni-plaintext\">Submission#13+Physician</div></td></tr></tbody></table>"
      ]
     },
     "metadata": {},
     "output_type": "display_data"
    }
   ],
   "source": [
    "display(db.Patients.ToList())"
   ]
  },
  {
   "cell_type": "code",
   "execution_count": 19,
   "metadata": {},
   "outputs": [
    {
     "data": {
      "text/html": [
       "<table><thead><tr><th>Id</th><th>Name</th><th>Cared_Patients</th></tr></thead><tbody><tr><td><div class=\"dni-plaintext\">86025d67-f283-4d32-b8f0-7c3866f42813</div></td><td><div class=\"dni-plaintext\">John Smith</div></td><td><div class=\"dni-plaintext\">[ Submission#13+Patient, Submission#13+Patient, Submission#13+Patient, Submission#13+Patient, Submission#13+Patient ]</div></td></tr></tbody></table>"
      ]
     },
     "metadata": {},
     "output_type": "display_data"
    }
   ],
   "source": [
    "display(db.Patients.FirstOrDefault(x => x.Id == Guid.Parse(\"3305d1a6-e7f4-4465-c7c8-08d89e1202fd\")).Physician);"
   ]
  },
  {
   "cell_type": "code",
   "execution_count": null,
   "metadata": {},
   "outputs": [],
   "source": []
  }
 ],
 "metadata": {
  "kernelspec": {
   "display_name": ".NET (C#)",
   "language": "C#",
   "name": ".net-csharp"
  },
  "language_info": {
   "file_extension": ".cs",
   "mimetype": "text/x-csharp",
   "name": "C#",
   "pygments_lexer": "csharp",
   "version": "8.0"
  }
 },
 "nbformat": 4,
 "nbformat_minor": 4
}
